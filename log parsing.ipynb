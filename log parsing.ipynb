{
 "cells": [
  {
   "cell_type": "code",
   "execution_count": 1,
   "metadata": {},
   "outputs": [],
   "source": [
    "# Import libraries as required\n",
    "import pandas as pd\n",
    "import numpy as np\n",
    "import matplotlib.pyplot as plt\n",
    "import seaborn as sb\n",
    "from datetime import datetime\n",
    "pd.set_option('display.max_rows', 10)"
   ]
  },
  {
   "cell_type": "code",
   "execution_count": 2,
   "metadata": {},
   "outputs": [],
   "source": [
    "data_file = 'C:/Users/chake/Desktop/log.txt'"
   ]
  },
  {
   "cell_type": "code",
   "execution_count": 3,
   "metadata": {},
   "outputs": [
    {
     "data": {
      "text/html": [
       "<div>\n",
       "<style scoped>\n",
       "    .dataframe tbody tr th:only-of-type {\n",
       "        vertical-align: middle;\n",
       "    }\n",
       "\n",
       "    .dataframe tbody tr th {\n",
       "        vertical-align: top;\n",
       "    }\n",
       "\n",
       "    .dataframe thead th {\n",
       "        text-align: right;\n",
       "    }\n",
       "</style>\n",
       "<table border=\"1\" class=\"dataframe\">\n",
       "  <thead>\n",
       "    <tr style=\"text-align: right;\">\n",
       "      <th></th>\n",
       "      <th>date</th>\n",
       "      <th>time</th>\n",
       "      <th>s-ip</th>\n",
       "      <th>cs-method</th>\n",
       "      <th>cs-uri-stem</th>\n",
       "      <th>cs-uri-query</th>\n",
       "      <th>s-port</th>\n",
       "      <th>cs-username</th>\n",
       "      <th>c-ip</th>\n",
       "      <th>cs(User-Agent)</th>\n",
       "      <th>cs(Referer)</th>\n",
       "      <th>sc-status</th>\n",
       "      <th>sc-substatus</th>\n",
       "      <th>sc-win32-status</th>\n",
       "      <th>time-taken</th>\n",
       "      <th>datetime</th>\n",
       "    </tr>\n",
       "  </thead>\n",
       "  <tbody>\n",
       "    <tr>\n",
       "      <th>0</th>\n",
       "      <td>2022-01-01</td>\n",
       "      <td>04:31:00</td>\n",
       "      <td>198.133.173.60</td>\n",
       "      <td>GET</td>\n",
       "      <td>tvltckxq.css</td>\n",
       "      <td>-</td>\n",
       "      <td>443</td>\n",
       "      <td>-</td>\n",
       "      <td>158.176.232.200</td>\n",
       "      <td>Mozilla/5.0+(iPhone;+CPU+iPhone+OS+13_7+like+M...</td>\n",
       "      <td>-</td>\n",
       "      <td>404</td>\n",
       "      <td>0</td>\n",
       "      <td>0</td>\n",
       "      <td>20</td>\n",
       "      <td>2022-01-01 04:31:00</td>\n",
       "    </tr>\n",
       "    <tr>\n",
       "      <th>1</th>\n",
       "      <td>2022-01-01</td>\n",
       "      <td>04:31:00</td>\n",
       "      <td>198.133.173.60</td>\n",
       "      <td>GET</td>\n",
       "      <td>tycscfwo.css</td>\n",
       "      <td>-</td>\n",
       "      <td>443</td>\n",
       "      <td>-</td>\n",
       "      <td>158.176.232.200</td>\n",
       "      <td>Mozilla/5.0+(iPhone;+CPU+iPhone+OS+13_7+like+M...</td>\n",
       "      <td>-</td>\n",
       "      <td>404</td>\n",
       "      <td>0</td>\n",
       "      <td>0</td>\n",
       "      <td>23</td>\n",
       "      <td>2022-01-01 04:31:00</td>\n",
       "    </tr>\n",
       "    <tr>\n",
       "      <th>2</th>\n",
       "      <td>2022-01-01</td>\n",
       "      <td>04:31:00</td>\n",
       "      <td>198.133.173.60</td>\n",
       "      <td>GET</td>\n",
       "      <td>favico.ico</td>\n",
       "      <td>-</td>\n",
       "      <td>443</td>\n",
       "      <td>-</td>\n",
       "      <td>158.176.232.200</td>\n",
       "      <td>Mozilla/5.0+(iPhone;+CPU+iPhone+OS+13_7+like+M...</td>\n",
       "      <td>-</td>\n",
       "      <td>200</td>\n",
       "      <td>0</td>\n",
       "      <td>0</td>\n",
       "      <td>28</td>\n",
       "      <td>2022-01-01 04:31:00</td>\n",
       "    </tr>\n",
       "    <tr>\n",
       "      <th>3</th>\n",
       "      <td>2022-01-01</td>\n",
       "      <td>04:31:00</td>\n",
       "      <td>198.133.173.60</td>\n",
       "      <td>GET</td>\n",
       "      <td>index.aspx</td>\n",
       "      <td>-</td>\n",
       "      <td>443</td>\n",
       "      <td>-</td>\n",
       "      <td>158.176.232.200</td>\n",
       "      <td>Mozilla/5.0+(iPhone;+CPU+iPhone+OS+13_7+like+M...</td>\n",
       "      <td>-</td>\n",
       "      <td>200</td>\n",
       "      <td>0</td>\n",
       "      <td>0</td>\n",
       "      <td>28</td>\n",
       "      <td>2022-01-01 04:31:00</td>\n",
       "    </tr>\n",
       "    <tr>\n",
       "      <th>4</th>\n",
       "      <td>2022-01-01</td>\n",
       "      <td>04:31:10</td>\n",
       "      <td>198.133.173.60</td>\n",
       "      <td>GET</td>\n",
       "      <td>txnyrhct.css</td>\n",
       "      <td>-</td>\n",
       "      <td>443</td>\n",
       "      <td>-</td>\n",
       "      <td>158.176.232.200</td>\n",
       "      <td>Mozilla/5.0+(iPhone;+CPU+iPhone+OS+13_7+like+M...</td>\n",
       "      <td>https://uwecybersolutions.co.uk/index.aspx</td>\n",
       "      <td>404</td>\n",
       "      <td>0</td>\n",
       "      <td>0</td>\n",
       "      <td>29</td>\n",
       "      <td>2022-01-01 04:31:10</td>\n",
       "    </tr>\n",
       "    <tr>\n",
       "      <th>...</th>\n",
       "      <td>...</td>\n",
       "      <td>...</td>\n",
       "      <td>...</td>\n",
       "      <td>...</td>\n",
       "      <td>...</td>\n",
       "      <td>...</td>\n",
       "      <td>...</td>\n",
       "      <td>...</td>\n",
       "      <td>...</td>\n",
       "      <td>...</td>\n",
       "      <td>...</td>\n",
       "      <td>...</td>\n",
       "      <td>...</td>\n",
       "      <td>...</td>\n",
       "      <td>...</td>\n",
       "      <td>...</td>\n",
       "    </tr>\n",
       "    <tr>\n",
       "      <th>4380</th>\n",
       "      <td>2022-01-30</td>\n",
       "      <td>21:25:08</td>\n",
       "      <td>198.133.173.60</td>\n",
       "      <td>GET</td>\n",
       "      <td>transactions.aspx</td>\n",
       "      <td>page=3</td>\n",
       "      <td>443</td>\n",
       "      <td>xl479060</td>\n",
       "      <td>193.203.193.207</td>\n",
       "      <td>Mozilla/5.0+(iPhone;+CPU+iPhone+OS+12_1+like+M...</td>\n",
       "      <td>https://uwecybersolutions.co.uk/transactions.aspx</td>\n",
       "      <td>200</td>\n",
       "      <td>0</td>\n",
       "      <td>0</td>\n",
       "      <td>29</td>\n",
       "      <td>2022-01-30 21:25:08</td>\n",
       "    </tr>\n",
       "    <tr>\n",
       "      <th>4381</th>\n",
       "      <td>2022-01-30</td>\n",
       "      <td>21:25:15</td>\n",
       "      <td>198.133.173.60</td>\n",
       "      <td>GET</td>\n",
       "      <td>mpwzwbhl.css</td>\n",
       "      <td>-</td>\n",
       "      <td>443</td>\n",
       "      <td>xl479060</td>\n",
       "      <td>193.203.193.207</td>\n",
       "      <td>Mozilla/5.0+(iPhone;+CPU+iPhone+OS+12_1+like+M...</td>\n",
       "      <td>https://uwecybersolutions.co.uk/transactions.aspx</td>\n",
       "      <td>200</td>\n",
       "      <td>0</td>\n",
       "      <td>0</td>\n",
       "      <td>22</td>\n",
       "      <td>2022-01-30 21:25:15</td>\n",
       "    </tr>\n",
       "    <tr>\n",
       "      <th>4382</th>\n",
       "      <td>2022-01-30</td>\n",
       "      <td>21:25:15</td>\n",
       "      <td>198.133.173.60</td>\n",
       "      <td>GET</td>\n",
       "      <td>transactions.aspx</td>\n",
       "      <td>page=4</td>\n",
       "      <td>443</td>\n",
       "      <td>xl479060</td>\n",
       "      <td>193.203.193.207</td>\n",
       "      <td>Mozilla/5.0+(iPhone;+CPU+iPhone+OS+12_1+like+M...</td>\n",
       "      <td>https://uwecybersolutions.co.uk/transactions.aspx</td>\n",
       "      <td>200</td>\n",
       "      <td>0</td>\n",
       "      <td>0</td>\n",
       "      <td>26</td>\n",
       "      <td>2022-01-30 21:25:15</td>\n",
       "    </tr>\n",
       "    <tr>\n",
       "      <th>4383</th>\n",
       "      <td>2022-01-30</td>\n",
       "      <td>21:25:40</td>\n",
       "      <td>198.133.173.60</td>\n",
       "      <td>GET</td>\n",
       "      <td>template.css</td>\n",
       "      <td>v=slyketjb</td>\n",
       "      <td>443</td>\n",
       "      <td>xl479060</td>\n",
       "      <td>193.203.193.207</td>\n",
       "      <td>Mozilla/5.0+(iPhone;+CPU+iPhone+OS+12_1+like+M...</td>\n",
       "      <td>https://uwecybersolutions.co.uk/transactions.aspx</td>\n",
       "      <td>200</td>\n",
       "      <td>0</td>\n",
       "      <td>0</td>\n",
       "      <td>20</td>\n",
       "      <td>2022-01-30 21:25:40</td>\n",
       "    </tr>\n",
       "    <tr>\n",
       "      <th>4384</th>\n",
       "      <td>2022-01-30</td>\n",
       "      <td>21:25:40</td>\n",
       "      <td>198.133.173.60</td>\n",
       "      <td>GET</td>\n",
       "      <td>transactions.aspx</td>\n",
       "      <td>page=5</td>\n",
       "      <td>443</td>\n",
       "      <td>xl479060</td>\n",
       "      <td>193.203.193.207</td>\n",
       "      <td>Mozilla/5.0+(iPhone;+CPU+iPhone+OS+12_1+like+M...</td>\n",
       "      <td>https://uwecybersolutions.co.uk/transactions.aspx</td>\n",
       "      <td>200</td>\n",
       "      <td>0</td>\n",
       "      <td>0</td>\n",
       "      <td>25</td>\n",
       "      <td>2022-01-30 21:25:40</td>\n",
       "    </tr>\n",
       "  </tbody>\n",
       "</table>\n",
       "<p>4385 rows × 16 columns</p>\n",
       "</div>"
      ],
      "text/plain": [
       "            date      time            s-ip cs-method        cs-uri-stem  \\\n",
       "0     2022-01-01  04:31:00  198.133.173.60       GET       tvltckxq.css   \n",
       "1     2022-01-01  04:31:00  198.133.173.60       GET       tycscfwo.css   \n",
       "2     2022-01-01  04:31:00  198.133.173.60       GET         favico.ico   \n",
       "3     2022-01-01  04:31:00  198.133.173.60       GET         index.aspx   \n",
       "4     2022-01-01  04:31:10  198.133.173.60       GET       txnyrhct.css   \n",
       "...          ...       ...             ...       ...                ...   \n",
       "4380  2022-01-30  21:25:08  198.133.173.60       GET  transactions.aspx   \n",
       "4381  2022-01-30  21:25:15  198.133.173.60       GET       mpwzwbhl.css   \n",
       "4382  2022-01-30  21:25:15  198.133.173.60       GET  transactions.aspx   \n",
       "4383  2022-01-30  21:25:40  198.133.173.60       GET       template.css   \n",
       "4384  2022-01-30  21:25:40  198.133.173.60       GET  transactions.aspx   \n",
       "\n",
       "     cs-uri-query  s-port cs-username             c-ip  \\\n",
       "0               -     443           -  158.176.232.200   \n",
       "1               -     443           -  158.176.232.200   \n",
       "2               -     443           -  158.176.232.200   \n",
       "3               -     443           -  158.176.232.200   \n",
       "4               -     443           -  158.176.232.200   \n",
       "...           ...     ...         ...              ...   \n",
       "4380       page=3     443    xl479060  193.203.193.207   \n",
       "4381            -     443    xl479060  193.203.193.207   \n",
       "4382       page=4     443    xl479060  193.203.193.207   \n",
       "4383   v=slyketjb     443    xl479060  193.203.193.207   \n",
       "4384       page=5     443    xl479060  193.203.193.207   \n",
       "\n",
       "                                         cs(User-Agent)  \\\n",
       "0     Mozilla/5.0+(iPhone;+CPU+iPhone+OS+13_7+like+M...   \n",
       "1     Mozilla/5.0+(iPhone;+CPU+iPhone+OS+13_7+like+M...   \n",
       "2     Mozilla/5.0+(iPhone;+CPU+iPhone+OS+13_7+like+M...   \n",
       "3     Mozilla/5.0+(iPhone;+CPU+iPhone+OS+13_7+like+M...   \n",
       "4     Mozilla/5.0+(iPhone;+CPU+iPhone+OS+13_7+like+M...   \n",
       "...                                                 ...   \n",
       "4380  Mozilla/5.0+(iPhone;+CPU+iPhone+OS+12_1+like+M...   \n",
       "4381  Mozilla/5.0+(iPhone;+CPU+iPhone+OS+12_1+like+M...   \n",
       "4382  Mozilla/5.0+(iPhone;+CPU+iPhone+OS+12_1+like+M...   \n",
       "4383  Mozilla/5.0+(iPhone;+CPU+iPhone+OS+12_1+like+M...   \n",
       "4384  Mozilla/5.0+(iPhone;+CPU+iPhone+OS+12_1+like+M...   \n",
       "\n",
       "                                            cs(Referer)  sc-status  \\\n",
       "0                                                     -        404   \n",
       "1                                                     -        404   \n",
       "2                                                     -        200   \n",
       "3                                                     -        200   \n",
       "4            https://uwecybersolutions.co.uk/index.aspx        404   \n",
       "...                                                 ...        ...   \n",
       "4380  https://uwecybersolutions.co.uk/transactions.aspx        200   \n",
       "4381  https://uwecybersolutions.co.uk/transactions.aspx        200   \n",
       "4382  https://uwecybersolutions.co.uk/transactions.aspx        200   \n",
       "4383  https://uwecybersolutions.co.uk/transactions.aspx        200   \n",
       "4384  https://uwecybersolutions.co.uk/transactions.aspx        200   \n",
       "\n",
       "      sc-substatus  sc-win32-status  time-taken            datetime  \n",
       "0                0                0          20 2022-01-01 04:31:00  \n",
       "1                0                0          23 2022-01-01 04:31:00  \n",
       "2                0                0          28 2022-01-01 04:31:00  \n",
       "3                0                0          28 2022-01-01 04:31:00  \n",
       "4                0                0          29 2022-01-01 04:31:10  \n",
       "...            ...              ...         ...                 ...  \n",
       "4380             0                0          29 2022-01-30 21:25:08  \n",
       "4381             0                0          22 2022-01-30 21:25:15  \n",
       "4382             0                0          26 2022-01-30 21:25:15  \n",
       "4383             0                0          20 2022-01-30 21:25:40  \n",
       "4384             0                0          25 2022-01-30 21:25:40  \n",
       "\n",
       "[4385 rows x 16 columns]"
      ]
     },
     "execution_count": 3,
     "metadata": {},
     "output_type": "execute_result"
    }
   ],
   "source": [
    "# Load in the data set as required\n",
    "data = pd.read_csv(data_file, delim_whitespace=True)\n",
    "temp_df = data[data.columns[:-1]]\n",
    "temp_df.columns = data.columns[1:]\n",
    "data = temp_df\n",
    "data['datetime'] = pd.to_datetime(data['date'] + \" \" + data['time'])\n",
    "data\n"
   ]
  },
  {
   "cell_type": "markdown",
   "metadata": {},
   "source": [
    "As a SOC Analyst, these are the questions I ask while investigating:"
   ]
  },
  {
   "cell_type": "markdown",
   "metadata": {},
   "source": [
    "What are unique machines have accessed this web server application?"
   ]
  },
  {
   "cell_type": "code",
   "execution_count": 4,
   "metadata": {},
   "outputs": [
    {
     "data": {
      "text/plain": [
       "54"
      ]
     },
     "execution_count": 4,
     "metadata": {},
     "output_type": "execute_result"
    }
   ],
   "source": [
    "\n",
    "temp_df['c-ip'].nunique()"
   ]
  },
  {
   "cell_type": "markdown",
   "metadata": {},
   "source": [
    " How many unique usernames?"
   ]
  },
  {
   "cell_type": "code",
   "execution_count": 5,
   "metadata": {},
   "outputs": [
    {
     "data": {
      "text/plain": [
       "52"
      ]
     },
     "execution_count": 5,
     "metadata": {},
     "output_type": "execute_result"
    }
   ],
   "source": [
    "\n",
    "temp_df['cs-username'].nunique()\n"
   ]
  },
  {
   "cell_type": "markdown",
   "metadata": {},
   "source": [
    "Which URLs have been accessed the most number of times?"
   ]
  },
  {
   "cell_type": "code",
   "execution_count": 6,
   "metadata": {},
   "outputs": [
    {
     "data": {
      "text/plain": [
       "'https://uwecybersolutions.co.uk/login.aspx'"
      ]
     },
     "execution_count": 6,
     "metadata": {},
     "output_type": "execute_result"
    }
   ],
   "source": [
    "\n",
    "temp_df['cs(Referer)'].value_counts().index[0]\n"
   ]
  },
  {
   "cell_type": "markdown",
   "metadata": {},
   "source": [
    "What is the minimum value in the 'sc-status' column?"
   ]
  },
  {
   "cell_type": "code",
   "execution_count": 7,
   "metadata": {},
   "outputs": [
    {
     "data": {
      "text/plain": [
       "200"
      ]
     },
     "execution_count": 7,
     "metadata": {},
     "output_type": "execute_result"
    }
   ],
   "source": [
    "\n",
    "temp_df['sc-status'].min()\n"
   ]
  },
  {
   "cell_type": "markdown",
   "metadata": {},
   "source": [
    "How many entries in the data column 'cs-uri-query' start with the string 'v='? "
   ]
  },
  {
   "cell_type": "code",
   "execution_count": 8,
   "metadata": {},
   "outputs": [
    {
     "data": {
      "text/plain": [
       "626"
      ]
     },
     "execution_count": 8,
     "metadata": {},
     "output_type": "execute_result"
    }
   ],
   "source": [
    "len(temp_df[temp_df['cs-uri-query'].str.startswith('v=')])"
   ]
  },
  {
   "cell_type": "markdown",
   "metadata": {},
   "source": [
    "How many entries in the data column 'cs(User-Agent)' contain the term 'Win64?"
   ]
  },
  {
   "cell_type": "code",
   "execution_count": 9,
   "metadata": {},
   "outputs": [
    {
     "data": {
      "text/plain": [
       "1283"
      ]
     },
     "execution_count": 9,
     "metadata": {},
     "output_type": "execute_result"
    }
   ],
   "source": [
    "\n",
    "len(temp_df[temp_df['cs(User-Agent)'].str.contains('Win64')])\n"
   ]
  },
  {
   "cell_type": "markdown",
   "metadata": {},
   "source": [
    "Which file extension occurs the most within the'cs-uri-stem' column?"
   ]
  },
  {
   "cell_type": "code",
   "execution_count": 10,
   "metadata": {},
   "outputs": [
    {
     "data": {
      "text/plain": [
       "'css'"
      ]
     },
     "execution_count": 10,
     "metadata": {},
     "output_type": "execute_result"
    }
   ],
   "source": [
    "temp_df['cs-uri-stem'].str.extract(r'\\.([^.]+)$').value_counts().index[0][0]"
   ]
  },
  {
   "cell_type": "markdown",
   "metadata": {},
   "source": [
    "How many entries return a 'sc-status' value of 404 before 06:00AM?"
   ]
  },
  {
   "cell_type": "code",
   "execution_count": 11,
   "metadata": {},
   "outputs": [
    {
     "name": "stderr",
     "output_type": "stream",
     "text": [
      "C:\\Users\\chake\\AppData\\Local\\Temp\\ipykernel_15492\\294000103.py:1: UserWarning: Could not infer format, so each element will be parsed individually, falling back to `dateutil`. To ensure parsing is consistent and as-expected, please specify a format.\n",
      "  temp_df['time'] = pd.to_datetime(temp_df['time'])\n"
     ]
    },
    {
     "data": {
      "text/plain": [
       "13"
      ]
     },
     "execution_count": 11,
     "metadata": {},
     "output_type": "execute_result"
    }
   ],
   "source": [
    "temp_df['time'] = pd.to_datetime(temp_df['time'])\n",
    "len(temp_df[(temp_df['sc-status'] == 404) & (temp_df['time'].dt.hour < 6)])"
   ]
  },
  {
   "cell_type": "markdown",
   "metadata": {},
   "source": [
    "In order to know what are the suspecious IP adresses, we need to filter the http code responses from the server; specefically, 404, 401, and 301 codes. Because receiving a lot of these codes could be an indicator of attack.\n"
   ]
  },
  {
   "cell_type": "code",
   "execution_count": 12,
   "metadata": {},
   "outputs": [
    {
     "name": "stdout",
     "output_type": "stream",
     "text": [
      "404 Page Not Found:  358\n",
      "401 Not Authorised:  591\n",
      "301 Permanent Redirect:  240\n"
     ]
    }
   ],
   "source": [
    "print(\"404 Page Not Found: \",len(temp_df[(temp_df['sc-status'] == 404)]))\n",
    "print(\"401 Not Authorised: \",len(temp_df[(temp_df['sc-status'] == 401)]))\n",
    "print(\"301 Permanent Redirect: \",len(temp_df[(temp_df['sc-status'] == 301)]))"
   ]
  },
  {
   "cell_type": "markdown",
   "metadata": {},
   "source": [
    "The output shows that we have a considerable number of http response with codes 404 and 401. We start with code 401, as it means that the client did not have the right to access these resources. We filter the list of IP addresses that recieved this code and how many times. After that we plot a bar chart to define these IPs easely."
   ]
  },
  {
   "cell_type": "code",
   "execution_count": 13,
   "metadata": {},
   "outputs": [
    {
     "name": "stdout",
     "output_type": "stream",
     "text": [
      "401 responses per IP\n",
      " c-ip\n",
      "194.156.21.189    211\n",
      "103.39.7.236      194\n",
      "46.183.175.44     160\n",
      "194.50.118.97       3\n",
      "91.228.4.28         3\n",
      "                 ... \n",
      "213.86.229.169      2\n",
      "212.153.114.43      2\n",
      "92.123.193.248      1\n",
      "84.116.251.147      1\n",
      "23.72.230.52        1\n",
      "Name: count, Length: 15, dtype: int64\n"
     ]
    },
    {
     "data": {
      "image/png": "[encoded data removed]",
      "text/plain": [
       "<Figure size 640x480 with 1 Axes>"
      ]
     },
     "metadata": {},
     "output_type": "display_data"
    }
   ],
   "source": [
    "import matplotlib.pyplot as plt\n",
    "df_401 = temp_df[temp_df['sc-status'] == 401]\n",
    "ip_counts = df_401['c-ip'].value_counts()\n",
    "print('401 responses per IP\\n',ip_counts)\n",
    "plt.barh(ip_counts.index, ip_counts.values)\n",
    "plt.title('401 Responses per IP')\n",
    "plt.xlabel('Number of 401 Responses')\n",
    "plt.ylabel('IP Addresses')\n",
    "plt.show()\n"
   ]
  },
  {
   "cell_type": "markdown",
   "metadata": {},
   "source": [
    "We can see here that we have 3 IP addresses with high number of 401 responses, 194.156.21.189, 103.39.7.236, and 46.183.175.44. We need to investigate these 3 IPs indivudualy. We start with: 194.156.21.189: We identify which page was targeted while it was\n",
    "receving 401 code. We identify what is the time range between the first and last attempt."
   ]
  },
  {
   "cell_type": "code",
   "execution_count": 14,
   "metadata": {},
   "outputs": [
    {
     "name": "stdout",
     "output_type": "stream",
     "text": [
      "Most requested page is: https://uwecybersolutions.co.uk/login.aspx\n",
      "338   2024-01-15 11:11:06\n",
      "339   2024-01-15 11:11:07\n",
      "340   2024-01-15 11:11:08\n",
      "341   2024-01-15 11:11:11\n",
      "342   2024-01-15 11:11:12\n",
      "              ...        \n",
      "575   2024-01-15 11:18:08\n",
      "576   2024-01-15 11:18:10\n",
      "577   2024-01-15 11:18:11\n",
      "578   2024-01-15 11:18:13\n",
      "579   2024-01-15 11:18:14\n",
      "Name: time, Length: 211, dtype: datetime64[ns]\n"
     ]
    }
   ],
   "source": [
    "ip_address = '194.156.21.189'\n",
    "df_filtered = temp_df[(temp_df['c-ip'] == ip_address) &\n",
    " (temp_df['sc-status'] == 401)]\n",
    "times = df_filtered['time']\n",
    "most_requested_page = df_filtered['cs(Referer)'].value_counts().idxmax()\n",
    "print(f\"Most requested page is: {most_requested_page}\")\n",
    "print(times)\n"
   ]
  },
  {
   "cell_type": "markdown",
   "metadata": {},
   "source": [
    "We can see that the target page was login.aspx, and from 11:11:06 to 11:18:14 this IP has a request to access this page every (1-2) seconds. That is an indicator of a brute force attack."
   ]
  },
  {
   "cell_type": "code",
   "execution_count": 15,
   "metadata": {},
   "outputs": [
    {
     "name": "stdout",
     "output_type": "stream",
     "text": [
      " 'https://uwecybersolutions.co.uk/login.aspx'returned a 200 status code for'194.156.21.189' on:\n",
      "581   2024-01-15 11:18:18\n",
      "582   2024-01-15 11:18:18\n",
      "Name: time, dtype: datetime64[ns]\n"
     ]
    }
   ],
   "source": [
    "ip_address = '194.156.21.189'\n",
    "most_requested_page = 'https://uwecybersolutions.co.uk/login.aspx'\n",
    "df_filtered = temp_df[(temp_df['c-ip'] == ip_address)\n",
    " & (temp_df['cs(Referer)'] == most_requested_page)\n",
    " & (temp_df['sc-status'] == 200)]\n",
    "print(f\" '{most_requested_page}'returned a 200 status code for'{ip_address}' on:\")\n",
    "print(df_filtered['time'])"
   ]
  },
  {
   "cell_type": "markdown",
   "metadata": {},
   "source": [
    "The last 401 status code was at 11:18:14 and at 11:18:18 194.156.21.189 recieved a 200 status code, which means the brute force attack was successful, and the attacker managed to find the credentilas.\n"
   ]
  },
  {
   "cell_type": "code",
   "execution_count": 16,
   "metadata": {},
   "outputs": [
    {
     "name": "stdout",
     "output_type": "stream",
     "text": [
      "Pages were accessed by IP address '194.156.21.189' after 11:18:18:\n",
      "cs(Referer)                                             sc-status\n",
      "https://uwecybersolutions.co.uk/transactions.aspx       200          16\n",
      "                                                        404           1\n",
      "https://uwecybersolutions.co.uk/transfer.aspx           200          30\n",
      "                                                        404           5\n",
      "https://uwecybersolutions.co.uk/transfer_complete.aspx  200          16\n",
      "                                                        301           1\n",
      "                                                        404           3\n",
      "dtype: int64\n"
     ]
    }
   ],
   "source": [
    "ip_address = '194.156.21.189'\n",
    "time_cutoff = '11:18:18'\n",
    "df_filtered = temp_df[(temp_df['c-ip'] == ip_address)\n",
    " & (temp_df['time'] > time_cutoff)]\n",
    "code_counts = df_filtered.groupby(['cs(Referer)', 'sc-status']).size()\n",
    "print(f\"Pages were accessed by IP address '{ip_address}' after {time_cutoff}:\")\n",
    "print(code_counts)\n"
   ]
  },
  {
   "cell_type": "markdown",
   "metadata": {},
   "source": [
    "We wanted to investigate what were the attacker activities after gaining access (after\n",
    "11:18:18). We wanted to see what pages were visited by the attacker and what was the\n",
    "status code, and how many count per status code. We can see the attacker managed to\n",
    "make 16 successeful transfert, as the status code for the page\n",
    "'https://uwecybersolutions.co.uk/transfer_complete.aspx' was 200(OK)\n",
    "Now, we investigate 103.39.7.236 and we repeate the same process"
   ]
  },
  {
   "cell_type": "code",
   "execution_count": 17,
   "metadata": {},
   "outputs": [
    {
     "name": "stdout",
     "output_type": "stream",
     "text": [
      "Most requested page is: https://uwecybersolutions.co.uk/login.aspx\n",
      "1042   2024-01-15 11:54:28\n",
      "1043   2024-01-15 11:54:31\n",
      "1044   2024-01-15 11:54:33\n",
      "1045   2024-01-15 11:54:35\n",
      "1046   2024-01-15 11:54:37\n",
      "               ...        \n",
      "1261   2024-01-15 12:00:53\n",
      "1262   2024-01-15 12:00:55\n",
      "1263   2024-01-15 12:00:56\n",
      "1264   2024-01-15 12:00:57\n",
      "1265   2024-01-15 12:00:58\n",
      "Name: time, Length: 194, dtype: datetime64[ns]\n"
     ]
    }
   ],
   "source": [
    "ip_address = '103.39.7.236'\n",
    "df_filtered = temp_df[(temp_df['c-ip'] == ip_address)\n",
    " & (temp_df['sc-status'] == 401)]\n",
    "dates = pd.to_datetime(df_filtered['date'], format='%Y-%m-%d')\n",
    "times = df_filtered['time']\n",
    "most_requested_page = df_filtered['cs(Referer)'].value_counts().idxmax()\n",
    "print(f\"Most requested page is: {most_requested_page}\")\n",
    "print(times)"
   ]
  },
  {
   "cell_type": "markdown",
   "metadata": {},
   "source": [
    "103.39.7.236 was targeting the login page as well (login.aspx). However, in different time\n",
    "range. From 11:54:28 to 12:00:58 tried to login every 1 or 2 seconds. We can conclude that\n",
    "this IP was launchign a brute force against the login page. Now, if we investigate\n",
    "46.183.175.44 with the same investigation process:\n"
   ]
  },
  {
   "cell_type": "code",
   "execution_count": 18,
   "metadata": {},
   "outputs": [
    {
     "name": "stdout",
     "output_type": "stream",
     "text": [
      "https://uwecybersolutions.co.uk/login.aspx' returned a 200 status code for'103.39.7.236' on:\n",
      "1267   2024-01-15 12:01:02\n",
      "1270   2024-01-15 12:01:02\n",
      "Name: time, dtype: datetime64[ns]\n"
     ]
    }
   ],
   "source": [
    "ip_address = '103.39.7.236'\n",
    "most_requested_page = 'https://uwecybersolutions.co.uk/login.aspx'\n",
    "df_filtered = temp_df[(temp_df['c-ip'] == ip_address)\n",
    " & (temp_df['cs(Referer)'] == most_requested_page)\n",
    " & (temp_df['sc-status'] == 200)]\n",
    "print(f\"{most_requested_page}' returned a 200 status code for'{ip_address}' on:\")\n",
    "print(df_filtered['time'])"
   ]
  },
  {
   "cell_type": "markdown",
   "metadata": {},
   "source": [
    "The last 401 status code was at 12:00:58 and at 12:01:02 103.39.7.236 recieved a 200 status\n",
    "code, which means the brute force attack was successful, and the attacker managed to find\n",
    "the credentilas.\n"
   ]
  },
  {
   "cell_type": "code",
   "execution_count": 19,
   "metadata": {},
   "outputs": [
    {
     "name": "stdout",
     "output_type": "stream",
     "text": [
      "Pages were accessed by'103.39.7.236' after 12:01:02:\n",
      "cs(Referer)                                             sc-status\n",
      "https://uwecybersolutions.co.uk/transactions.aspx       200           1\n",
      "                                                        404           1\n",
      "https://uwecybersolutions.co.uk/transfer.aspx           200          34\n",
      "                                                        404           6\n",
      "https://uwecybersolutions.co.uk/transfer_complete.aspx  200          18\n",
      "                                                        301           1\n",
      "dtype: int64\n"
     ]
    }
   ],
   "source": [
    "ip_address = '103.39.7.236'\n",
    "time_cutoff = '12:01:02'\n",
    "df_filtered = temp_df[(temp_df['c-ip'] == ip_address) & (temp_df['time'] > time_cutoff)]\n",
    "code_counts = df_filtered.groupby(['cs(Referer)', 'sc-status']).size()\n",
    "print(f\"Pages were accessed by'{ip_address}' after {time_cutoff}:\")\n",
    "print(code_counts)\n"
   ]
  },
  {
   "cell_type": "markdown",
   "metadata": {},
   "source": [
    "Pages were accessed by'103.39.7.236' after 12:01:02:\n",
    "cs(Referer) sc-status\n",
    "https://uwecybersolutions.co.uk/transactions.aspx 200 1\n",
    " 404 1\n",
    "https://uwecybersolutions.co.uk/transfer.aspx 200 34\n",
    "404 6\n",
    "https://uwecybersolutions.co.uk/transfer_complete.aspx 200 18\n",
    "301 1\n",
    "dtype: int64\n",
    "Recording to the outup, from this IP; the attacker managed to make 18 successeful transfer.\n",
    "As he recieved 18 (200-OK) for the page transfert_complete.aspx."
   ]
  },
  {
   "cell_type": "code",
   "execution_count": 20,
   "metadata": {},
   "outputs": [
    {
     "name": "stdout",
     "output_type": "stream",
     "text": [
      "Most requested page is: https://uwecybersolutions.co.uk/login.aspx\n",
      "1336   2024-01-15 23:01:22\n",
      "1337   2024-01-15 23:01:24\n",
      "1338   2024-01-15 23:01:27\n",
      "1343   2024-01-15 23:01:30\n",
      "1344   2024-01-15 23:01:32\n",
      "               ...        \n",
      "1519   2024-01-15 23:06:24\n",
      "1520   2024-01-15 23:06:25\n",
      "1521   2024-01-15 23:06:26\n",
      "1522   2024-01-15 23:06:27\n",
      "1523   2024-01-15 23:06:30\n",
      "Name: time, Length: 160, dtype: datetime64[ns]\n"
     ]
    }
   ],
   "source": [
    "ip_address = '46.183.175.44'\n",
    "df_filtered = temp_df[(temp_df['c-ip'] == ip_address)\n",
    " & (temp_df['sc-status'] == 401)]\n",
    "dates = pd.to_datetime(df_filtered['date'], format='%Y-%m-%d')\n",
    "times = df_filtered['time']\n",
    "most_requested_page = df_filtered['cs(Referer)'].value_counts().idxmax()\n",
    "print(f\"Most requested page is: {most_requested_page}\")\n",
    "print(times)"
   ]
  },
  {
   "cell_type": "markdown",
   "metadata": {},
   "source": [
    "46.183.175.44 was requesting login.aspx page every 1 or 2 seconds in the periode from\n",
    "23:01:22 to 23:06:30. We can say this IP tried to brute force the login page for this web\n",
    "server."
   ]
  },
  {
   "cell_type": "code",
   "execution_count": 21,
   "metadata": {},
   "outputs": [
    {
     "name": "stdout",
     "output_type": "stream",
     "text": [
      "https://uwecybersolutions.co.uk/login.aspx' returned a 200 status code for'46.183.175.44' on:\n",
      "1525   2024-01-15 23:06:35\n",
      "1526   2024-01-15 23:06:35\n",
      "1527   2024-01-15 23:06:35\n",
      "Name: time, dtype: datetime64[ns]\n"
     ]
    }
   ],
   "source": [
    "ip_address = '46.183.175.44'\n",
    "most_requested_page = 'https://uwecybersolutions.co.uk/login.aspx'\n",
    "df_filtered = temp_df[(temp_df['c-ip'] == ip_address)\n",
    " & (temp_df['cs(Referer)'] == most_requested_page)\n",
    " & (temp_df['sc-status'] == 200)]\n",
    "print(f\"{most_requested_page}' returned a 200 status code for'{ip_address}' on:\")\n",
    "print(df_filtered['time'])\n"
   ]
  },
  {
   "cell_type": "markdown",
   "metadata": {},
   "source": [
    "The last 401 status code was at 23:06:30 and at 23:06:35 46.183.175.44 recieved a 200 status\n",
    "code, which means the brute force attack was successful, and the attacker managed to find\n",
    "the credentilas.\n"
   ]
  },
  {
   "cell_type": "code",
   "execution_count": 22,
   "metadata": {},
   "outputs": [
    {
     "name": "stdout",
     "output_type": "stream",
     "text": [
      "Pages were accessed by IP address '46.183.175.44' after 23:06:35:\n",
      "cs(Referer)                                             sc-status\n",
      "https://uwecybersolutions.co.uk/transactions.aspx       200           4\n",
      "                                                        404           1\n",
      "https://uwecybersolutions.co.uk/transfer.aspx           200          35\n",
      "                                                        404           2\n",
      "https://uwecybersolutions.co.uk/transfer_complete.aspx  200          14\n",
      "                                                        301           1\n",
      "dtype: int64\n"
     ]
    }
   ],
   "source": [
    "ip_address = '46.183.175.44'\n",
    "time_cutoff = '23:06:35'\n",
    "df_filtered = temp_df[(temp_df['c-ip'] == ip_address)\n",
    " & (temp_df['time'] > time_cutoff)]\n",
    "code_counts = df_filtered.groupby(['cs(Referer)', 'sc-status']).size()\n",
    "print(f\"Pages were accessed by IP address '{ip_address}' after {time_cutoff}:\")\n",
    "print(code_counts)"
   ]
  },
  {
   "cell_type": "markdown",
   "metadata": {},
   "source": [
    "From this IP, 14 successful transfer occured.\n",
    "Conclusion of the investigation: The attacker used 3 IP addresses to launch his attack. All the\n",
    "attacks were the same but from different IPs and diffenert times. The attack process was as\n",
    "follows: -The attacker launch a brute force against the login page. -After obtaining the\n",
    "credentials, the attacker access the transfer.aspx page and start make some transacrions. -\n",
    "The attacker made 48 transaction from three different accounts."
   ]
  }
 ],
 "metadata": {
  "kernelspec": {
   "display_name": "Python 3",
   "language": "python",
   "name": "python3"
  },
  "language_info": {
   "codemirror_mode": {
    "name": "ipython",
    "version": 3
   },
   "file_extension": ".py",
   "mimetype": "text/x-python",
   "name": "python",
   "nbconvert_exporter": "python",
   "pygments_lexer": "ipython3",
   "version": "3.11.7"
  }
 },
 "nbformat": 4,
 "nbformat_minor": 2
}
